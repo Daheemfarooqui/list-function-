{
 "cells": [
  {
   "cell_type": "markdown",
   "id": "622d03b5-a3e1-452c-b5d7-0097d64b0204",
   "metadata": {},
   "source": [
    "# Q1. What is the syntax for adding an element to a list in Python?"
   ]
  },
  {
   "cell_type": "markdown",
   "id": "108f0507-9a08-45ef-8c1c-2f7cfcfb2a88",
   "metadata": {},
   "source": [
    "## Ans1\n",
    "\n",
    "## There are four type of syntax to add elements to a List in Python.\n",
    " *  append(): append the element to the end of the list.\n",
    " * insert(): inserts the element before the given index.\n",
    "* extend(): extends the list by appending elements from the iterable.\n",
    "* List Concatenation: We can use the + operator to concatenate multiple lists and create a new list."
   ]
  },
  {
   "cell_type": "markdown",
   "id": "f10bd148-c31e-406c-8c65-0b13a96ee12d",
   "metadata": {},
   "source": [
    "# Q2. What is the difference between remove() and pop() functions in Python?"
   ]
  },
  {
   "cell_type": "markdown",
   "id": "400f952e-658d-4abf-b534-80b9f48f974b",
   "metadata": {},
   "source": [
    "## Ans2\n",
    "* The main difference berween remove() an pop() is that \n",
    "  The pop() function removes the last element or the element based on the index given while\n",
    "  remove() function removes the first occurrence of the specified element."
   ]
  },
  {
   "cell_type": "code",
   "execution_count": 2,
   "id": "300744f6-792c-4be6-bb54-fa8dd78dc3ed",
   "metadata": {},
   "outputs": [
    {
     "name": "stdout",
     "output_type": "stream",
     "text": [
      "Updated list of heros: ['superman', 'batman', 'spiderman']\n"
     ]
    }
   ],
   "source": [
    "# Example: remove()\n",
    " \n",
    "list = ['superman', 'batman', 'spiderman', 'hulk']\n",
    "list.remove('hulk')\n",
    "print ('Updated list of heros:', list)"
   ]
  },
  {
   "cell_type": "code",
   "execution_count": 5,
   "id": "87fe481e-7931-47cb-a1b4-d4cccc9b4a92",
   "metadata": {},
   "outputs": [
    {
     "name": "stdout",
     "output_type": "stream",
     "text": [
      "Return Value:  Bengali\n",
      "Updated List:  ['Hindi', 'English', 'Marathi', 'urdu']\n"
     ]
    }
   ],
   "source": [
    "#For Example\n",
    "language = ['Hindi', 'English', 'Marathi', 'Bengali', 'urdu']\n",
    "\n",
    "return_value = language.pop(3)\n",
    "print('Return Value: ', return_value)\n",
    "\n",
    "print('Updated List: ', language)"
   ]
  },
  {
   "cell_type": "markdown",
   "id": "539b1e79-7a67-4617-9c55-30e8d3bb3bda",
   "metadata": {},
   "source": [
    "#  Q3. Write a Python code to sort a list in descending order."
   ]
  },
  {
   "cell_type": "markdown",
   "id": "d2435552-9457-421d-9793-426357778178",
   "metadata": {},
   "source": [
    "## Ans3\n"
   ]
  },
  {
   "cell_type": "code",
   "execution_count": 19,
   "id": "ace67d5a-0e56-40e0-a13f-57dc2e465269",
   "metadata": {},
   "outputs": [
    {
     "name": "stdout",
     "output_type": "stream",
     "text": [
      "Original sentence:  this is pwskills Assignment\n",
      "['Assignment', 'pwskills', 'this', 'is']\n"
     ]
    }
   ],
   "source": [
    "a = \"this is pwskills Assignment\"\n",
    "\n",
    "print(\"Original sentence: \", a)\n",
    "print(sorted(a.split(), key=len, reverse=True))"
   ]
  },
  {
   "cell_type": "markdown",
   "id": "d5651355-4a3a-4530-821d-fe4fa3bfcba4",
   "metadata": {},
   "source": [
    "# Q4. Write a Python code to count the number of occurrences of an element in a list."
   ]
  },
  {
   "cell_type": "markdown",
   "id": "de813a53-bb44-4e05-bafa-dacf223e5fff",
   "metadata": {},
   "source": [
    "## Ans4"
   ]
  },
  {
   "cell_type": "code",
   "execution_count": 23,
   "id": "baebf025-d2e9-4b54-8ce0-85582f88f8ac",
   "metadata": {},
   "outputs": [
    {
     "name": "stdin",
     "output_type": "stream",
     "text": [
      " enter your value a\n"
     ]
    },
    {
     "name": "stdout",
     "output_type": "stream",
     "text": [
      "3\n"
     ]
    }
   ],
   "source": [
    "lis = ['a', 'd', 'd', 'c', 'a', 'b', 'b', 'a', 'c', 'd', 'e']\n",
    "occurrence = {item: lis.count(item) for item in lis}\n",
    "print(occurrence.get(input(' enter your value')))"
   ]
  },
  {
   "cell_type": "markdown",
   "id": "d734e159-5a18-49df-80ea-be88b7d37049",
   "metadata": {},
   "source": [
    "# Q5. Write a Python code to reverse a list."
   ]
  },
  {
   "cell_type": "markdown",
   "id": "e956b7f9-22cd-4be6-acd8-ae81d03b17b3",
   "metadata": {},
   "source": [
    "## Ans5"
   ]
  },
  {
   "cell_type": "code",
   "execution_count": 31,
   "id": "b2841d93-d442-4e77-a015-a495e5de41c3",
   "metadata": {},
   "outputs": [
    {
     "name": "stdout",
     "output_type": "stream",
     "text": [
      "List before reverse :  ['pwskills', 'physicswallah', 'python']\n",
      "List after reverse :  ['python', 'physicswallah', 'pwskills']\n"
     ]
    }
   ],
   "source": [
    "\n",
    "list = [\"pwskills\",\"physicswallah\",\"python\"]\n",
    "print(\"List before reverse : \",list)\n",
    "list.reverse()\n",
    "print(\"List after reverse : \",list)"
   ]
  },
  {
   "cell_type": "code",
   "execution_count": null,
   "id": "8995335f-3f01-4e1d-8fdb-55f9bc01322a",
   "metadata": {},
   "outputs": [],
   "source": []
  }
 ],
 "metadata": {
  "kernelspec": {
   "display_name": "Python 3 (ipykernel)",
   "language": "python",
   "name": "python3"
  },
  "language_info": {
   "codemirror_mode": {
    "name": "ipython",
    "version": 3
   },
   "file_extension": ".py",
   "mimetype": "text/x-python",
   "name": "python",
   "nbconvert_exporter": "python",
   "pygments_lexer": "ipython3",
   "version": "3.10.8"
  }
 },
 "nbformat": 4,
 "nbformat_minor": 5
}
